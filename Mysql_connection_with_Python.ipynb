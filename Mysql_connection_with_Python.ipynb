{
 "cells": [
  {
   "cell_type": "code",
   "execution_count": 1,
   "id": "b44c2c66",
   "metadata": {},
   "outputs": [
    {
     "name": "stdout",
     "output_type": "stream",
     "text": [
      "<mysql.connector.connection_cext.CMySQLConnection object at 0x0000025F82572B80>\n"
     ]
    }
   ],
   "source": [
    "import mysql.connector as sql\n",
    "connection = sql.connect(\n",
    "    host = \"localhost\",\n",
    "    user = \"root\",\n",
    "    password=\"Sudee@334\"\n",
    ")\n",
    "print(connection)"
   ]
  },
  {
   "cell_type": "code",
   "execution_count": 3,
   "id": "f1524d93",
   "metadata": {},
   "outputs": [],
   "source": [
    "cursor = connection.cursor()\n",
    "cursor.execute(\"CREATE DATABASE mydatabase1\")"
   ]
  },
  {
   "cell_type": "code",
   "execution_count": 4,
   "id": "08e8537e",
   "metadata": {},
   "outputs": [],
   "source": [
    "cursor.execute(\"SHOW DATABASES\")"
   ]
  },
  {
   "cell_type": "code",
   "execution_count": 5,
   "id": "323745e2",
   "metadata": {},
   "outputs": [
    {
     "name": "stdout",
     "output_type": "stream",
     "text": [
      "('exa',)\n",
      "('external',)\n",
      "('information_schema',)\n",
      "('mydatabase',)\n",
      "('mydatabase1',)\n",
      "('mysql',)\n",
      "('performance_schema',)\n",
      "('r19cs334',)\n",
      "('sakila',)\n",
      "('sys',)\n",
      "('world',)\n"
     ]
    }
   ],
   "source": [
    "for database in cursor:\n",
    "    print(database)"
   ]
  },
  {
   "cell_type": "code",
   "execution_count": 7,
   "id": "3023fbb0",
   "metadata": {},
   "outputs": [],
   "source": [
    "cursor.execute(\"DROP DATABASE r19cs334\")"
   ]
  },
  {
   "cell_type": "code",
   "execution_count": 8,
   "id": "b709a46c",
   "metadata": {},
   "outputs": [],
   "source": [
    "cursor.execute(\"SHOW DATABASES\")"
   ]
  },
  {
   "cell_type": "code",
   "execution_count": 9,
   "id": "dcec34b2",
   "metadata": {},
   "outputs": [
    {
     "name": "stdout",
     "output_type": "stream",
     "text": [
      "('exa',)\n",
      "('external',)\n",
      "('information_schema',)\n",
      "('mydatabase',)\n",
      "('mydatabase1',)\n",
      "('mysql',)\n",
      "('performance_schema',)\n",
      "('sakila',)\n",
      "('sys',)\n",
      "('world',)\n"
     ]
    }
   ],
   "source": [
    "for database in cursor:\n",
    "    print(database)"
   ]
  },
  {
   "cell_type": "code",
   "execution_count": 10,
   "id": "c016f68c",
   "metadata": {},
   "outputs": [
    {
     "name": "stdout",
     "output_type": "stream",
     "text": [
      "<mysql.connector.connection_cext.CMySQLConnection object at 0x0000025F828A0070>\n"
     ]
    }
   ],
   "source": [
    "import mysql.connector as sql\n",
    "connection = sql.connect(\n",
    "    host = \"localhost\",\n",
    "    user = \"root\",\n",
    "    password=\"Sudee@334\",\n",
    "    database=\"mydatabase1\"\n",
    ")\n",
    "print(connection)"
   ]
  },
  {
   "cell_type": "code",
   "execution_count": 11,
   "id": "16eec338",
   "metadata": {},
   "outputs": [],
   "source": [
    "#create table in mysql using python\n",
    "cursor = connection.cursor()\n",
    "cursor.execute(\"CREATE TABLE STUDENT(id int auto_increment primary key , name varchar(25),subject varchar(25))\")"
   ]
  },
  {
   "cell_type": "code",
   "execution_count": 12,
   "id": "119befda",
   "metadata": {},
   "outputs": [
    {
     "name": "stdout",
     "output_type": "stream",
     "text": [
      "row inserted 1\n"
     ]
    }
   ],
   "source": [
    "# insert the record\n",
    "query = \"INSERT INTO STUDENT(name,subject) VALUES(%s,%s)\"\n",
    "values = (\"sudeep\",\"CSE\")\n",
    "cursor.execute(query,values)\n",
    "print(\"row inserted\",cursor.lastrowid)"
   ]
  },
  {
   "cell_type": "code",
   "execution_count": 13,
   "id": "3ffdd93c",
   "metadata": {},
   "outputs": [
    {
     "name": "stdout",
     "output_type": "stream",
     "text": [
      "row inserted 2\n"
     ]
    }
   ],
   "source": [
    "query = \"INSERT INTO STUDENT(name,subject) VALUES(%s,%s)\"\n",
    "values = [(\"suman\",\"biology\"),\n",
    "         (\"veeresh\",\"chemisrty\"),\n",
    "         (\"yashas\",\"electronics\")]\n",
    "cursor.executemany(query,values)\n",
    "print(\"row inserted\",cursor.lastrowid)"
   ]
  },
  {
   "cell_type": "code",
   "execution_count": 14,
   "id": "3935276e",
   "metadata": {},
   "outputs": [],
   "source": [
    "cursor.execute(\"select * from student\")"
   ]
  },
  {
   "cell_type": "code",
   "execution_count": 15,
   "id": "6fdd1dc4",
   "metadata": {},
   "outputs": [
    {
     "data": {
      "text/plain": [
       "[(1, 'sudeep', 'CSE'),\n",
       " (2, 'suman', 'biology'),\n",
       " (3, 'veeresh', 'chemisrty'),\n",
       " (4, 'yashas', 'electronics')]"
      ]
     },
     "execution_count": 15,
     "metadata": {},
     "output_type": "execute_result"
    }
   ],
   "source": [
    "cursor.fetchall()"
   ]
  },
  {
   "cell_type": "code",
   "execution_count": 16,
   "id": "782276bd",
   "metadata": {},
   "outputs": [],
   "source": [
    "cursor.fetchone()"
   ]
  },
  {
   "cell_type": "code",
   "execution_count": 17,
   "id": "0b6e1a2e",
   "metadata": {},
   "outputs": [],
   "source": [
    "#accessing the perticular row\n",
    "cursor.execute(\"select * from student where name='sudeep'\")"
   ]
  },
  {
   "cell_type": "code",
   "execution_count": 18,
   "id": "f690cb48",
   "metadata": {},
   "outputs": [
    {
     "data": {
      "text/plain": [
       "[(1, 'sudeep', 'CSE')]"
      ]
     },
     "execution_count": 18,
     "metadata": {},
     "output_type": "execute_result"
    }
   ],
   "source": [
    "cursor.fetchall()"
   ]
  },
  {
   "cell_type": "code",
   "execution_count": 19,
   "id": "f163291f",
   "metadata": {},
   "outputs": [
    {
     "data": {
      "text/plain": [
       "[('CSE',), ('biology',), ('chemisrty',), ('electronics',)]"
      ]
     },
     "execution_count": 19,
     "metadata": {},
     "output_type": "execute_result"
    }
   ],
   "source": [
    "cursor.execute(\"select subject from student\")\n",
    "cursor.fetchall()"
   ]
  },
  {
   "cell_type": "code",
   "execution_count": 20,
   "id": "c3130f68",
   "metadata": {},
   "outputs": [
    {
     "data": {
      "text/plain": [
       "[('CSE',), ('biology',), ('chemisrty',), ('electronics',)]"
      ]
     },
     "execution_count": 20,
     "metadata": {},
     "output_type": "execute_result"
    }
   ],
   "source": [
    "cursor.execute(\"select distinct subject from student\")\n",
    "cursor.fetchall()"
   ]
  },
  {
   "cell_type": "code",
   "execution_count": null,
   "id": "8ab55da8",
   "metadata": {},
   "outputs": [],
   "source": []
  }
 ],
 "metadata": {
  "kernelspec": {
   "display_name": "Python 3",
   "language": "python",
   "name": "python3"
  },
  "language_info": {
   "codemirror_mode": {
    "name": "ipython",
    "version": 3
   },
   "file_extension": ".py",
   "mimetype": "text/x-python",
   "name": "python",
   "nbconvert_exporter": "python",
   "pygments_lexer": "ipython3",
   "version": "3.8.8"
  }
 },
 "nbformat": 4,
 "nbformat_minor": 5
}
